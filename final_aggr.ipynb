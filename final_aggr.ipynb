{
 "cells": [
  {
   "cell_type": "markdown",
   "metadata": {},
   "source": [
    "#### Problem Statement:- The Toxic Pesticides\n",
    "Though, many of us don't appreciate much, but a farmer's job is real test of endurance and determination. Once the seeds are sown, he works days and nights to make sure that he cultivates a good harvest at the end of season. A good harvest is ensured by several factors such as availability of water, soil fertility, protecting crops from rodents, timely use of pesticides & other useful chemicals and nature. While a lot of these factors are difficult to control for, the amount and frequency of pesticides is something the farmer can control.\n",
    "\n",
    "Pesticides are also special, because while they protect the crop with the right dosage. But, if you add more than required, they may spoil the entire harvest. A high level of pesticide can deem the crop dead / unsuitable for consumption among many outcomes. This data is based on crops harvested by various farmers at the end of harvest season. To simplify the problem, you can assume that all other factors like variations in farming techniques have been controlled for.\n",
    "\n",
    "You need to daetermine the outcome of the harvest season, i.e. whether the crop would be healthy (alive), damaged by pesticides or damaged by other reasons."
   ]
  },
  {
   "cell_type": "code",
   "execution_count": 1,
   "metadata": {
    "colab": {
     "base_uri": "https://localhost:8080/",
     "height": 34
    },
    "id": "Vi3l-eLNM0rp",
    "outputId": "cca89392-14e8-4dab-adc0-9d3530548cb0",
    "scrolled": true
   },
   "outputs": [
    {
     "name": "stdout",
     "output_type": "stream",
     "text": [
      "Mounted at /content/drive\n"
     ]
    }
   ],
   "source": [
    "from google.colab import drive\n",
    "drive.mount('/content/drive')"
   ]
  },
  {
   "cell_type": "code",
   "execution_count": 2,
   "metadata": {
    "id": "okJjcyOkMxN_"
   },
   "outputs": [],
   "source": [
    "import pandas as pd\n",
    "import numpy as np\n",
    "import matplotlib.pyplot as plt\n",
    "from sklearn.preprocessing import OneHotEncoder\n",
    "from sklearn.model_selection import train_test_split\n",
    "from sklearn.metrics import confusion_matrix\n",
    "from sklearn import tree\n",
    "from sklearn.model_selection import GridSearchCV\n",
    "from sklearn.pipeline import Pipeline\n",
    "from sklearn.impute import SimpleImputer\n",
    "from sklearn.preprocessing import OneHotEncoder\n",
    "from sklearn.compose import ColumnTransformer\n",
    "from sklearn.metrics import accuracy_score, recall_score, precision_score\n",
    "from sklearn.preprocessing import StandardScaler\n",
    "from sklearn.model_selection import train_test_split\n",
    "from sklearn.metrics import classification_report\n",
    "from sklearn.model_selection import GridSearchCV\n",
    "from sklearn.ensemble import RandomForestClassifier\n",
    "from sklearn.linear_model import LogisticRegression\n",
    "from sklearn.tree import DecisionTreeClassifier\n",
    "from xgboost import XGBClassifier\n",
    "from lightgbm import LGBMClassifier\n",
    "import warnings\n",
    "warnings.filterwarnings('ignore')\n",
    "\n",
    "from sklearn.experimental import enable_iterative_imputer\n",
    "from sklearn.impute import IterativeImputer\n",
    "def model_evaluation(actuals, predictions) :\n",
    "    \n",
    "    print('\\nConfusion Matrix :')\n",
    "    print(confusion_matrix(actuals, predictions) ) \n",
    "    \n",
    "    print('\\nReport : ')\n",
    "    print(classification_report(actuals, predictions))\n",
    "    \n",
    "    print('\\nAccuracy Score :', accuracy_score(actuals, predictions)) \n",
    "    print(\"------------------------------------------------------------------\")"
   ]
  },
  {
   "cell_type": "code",
   "execution_count": 20,
   "metadata": {
    "id": "ZLzkhpC5MxQK"
   },
   "outputs": [],
   "source": [
    "df_train=pd.read_csv(\"/content/drive/My Drive/aggr/train.csv\", sep=\",\",na_values=[\"\",\"#\",\"?\",\"unknown\",\"None\"])\n",
    "df_test=pd.read_csv(\"/content/drive/My Drive/aggr/test.csv\", sep=\",\",na_values=[\"\",\"#\",\"?\",\"unknown\",\"None\"])"
   ]
  },
  {
   "cell_type": "code",
   "execution_count": 21,
   "metadata": {
    "colab": {
     "base_uri": "https://localhost:8080/",
     "height": 50
    },
    "id": "SmXcXS32MxQO",
    "outputId": "1138d6d3-cf82-4712-d803-f6c3ad8c6457"
   },
   "outputs": [
    {
     "name": "stdout",
     "output_type": "stream",
     "text": [
      "(88858, 11) (59310, 11)\n",
      "(148168, 11)\n"
     ]
    }
   ],
   "source": [
    "df_train['train_flag'] = 1\n",
    "df_test['train_flag'] = 0\n",
    "df_test['Crop_Damage'] = 0\n",
    "print(df_train.shape, df_test.shape)\n",
    "\n",
    "df_data = pd.concat((df_train, df_test))\n",
    "print(df_data.shape)"
   ]
  },
  {
   "cell_type": "code",
   "execution_count": 22,
   "metadata": {
    "colab": {
     "base_uri": "https://localhost:8080/",
     "height": 54
    },
    "id": "RE-GlHo5pe8x",
    "outputId": "1eb79593-b132-40b7-d0b5-398457dc132c"
   },
   "outputs": [
    {
     "name": "stdout",
     "output_type": "stream",
     "text": [
      "['Estimated_Insects_Count', 'Crop_Type', 'Soil_Type', 'Pesticide_Use_Category', 'Number_Doses_Week', 'Number_Weeks_Used', 'Number_Weeks_Quit', 'Season']\n"
     ]
    }
   ],
   "source": [
    "feature_cols = df_train.columns.tolist()\n",
    "feature_cols.remove('ID')\n",
    "feature_cols.remove('Crop_Damage')\n",
    "feature_cols.remove('train_flag')\n",
    "label_col = 'Crop_Damage'\n",
    "print(feature_cols)"
   ]
  },
  {
   "cell_type": "code",
   "execution_count": 23,
   "metadata": {
    "id": "_YjT8uFqpfJP"
   },
   "outputs": [],
   "source": [
    "df_data['ID_value'] = df_data['ID'].apply(lambda x: x.strip('F')).astype('int')"
   ]
  },
  {
   "cell_type": "code",
   "execution_count": 24,
   "metadata": {
    "id": "yG6LsesFpfPq"
   },
   "outputs": [],
   "source": [
    "df_data = df_data.sort_values(['ID_value'])\n",
    "df_data = df_data.reset_index(drop=True)"
   ]
  },
  {
   "cell_type": "code",
   "execution_count": 25,
   "metadata": {
    "id": "WbDLnanTpfTn"
   },
   "outputs": [],
   "source": [
    "df_data['Soil_Type_Damage'] = df_data.sort_values(['ID_value']).groupby(['Soil_Type'])['Crop_Damage'].apply(lambda x: x.shift().rolling(5, min_periods=1).mean()).fillna(-999).values\n",
    "\n",
    "df_data['Estimated_Insects_Count_Damage'] = df_data.sort_values(['ID_value']).groupby(['Estimated_Insects_Count'])['Crop_Damage'].apply(lambda x: x.shift().rolling(5, min_periods=1).mean()).fillna(-999).values\n",
    "\n",
    "\n",
    "df_data['Crop_Type_Damage'] = df_data.sort_values(['ID_value']).groupby(['Crop_Type'])['Crop_Damage'].apply(lambda x: x.shift().rolling(5, min_periods=1).mean()).fillna(-999).values\n",
    "\n",
    "\n",
    "df_data['Pesticide_Use_Category_Damage'] = df_data.sort_values(['ID_value']).groupby(['Pesticide_Use_Category'])['Crop_Damage'].apply(lambda x: x.shift().rolling(5, min_periods=1).mean()).fillna(-999).values\n",
    "\n",
    "\n",
    "df_data['Season_Damage'] = df_data.sort_values(['ID_value']).groupby(['Season'])['Crop_Damage'].apply(lambda x: x.shift().rolling(5, min_periods=1).mean()).fillna(-999).values\n",
    "\n",
    "\n",
    "df_data['Soil_Type_Damage_lag2'] = df_data.sort_values(['ID_value']).groupby(['Soil_Type'])['Crop_Damage'].apply(lambda x: x.shift(periods=2).rolling(5, min_periods=1).mean()).fillna(-999).values\n",
    "\n",
    "df_data['Estimated_Insects_Count_Damage_lag2'] = df_data.sort_values(['ID_value']).groupby(['Estimated_Insects_Count'])['Crop_Damage'].apply(lambda x: x.shift(periods=2).rolling(5, min_periods=1).mean()).fillna(-999).values\n",
    "\n",
    "df_data['Crop_Type_Damage_lag2'] = df_data.sort_values(['ID_value']).groupby(['Crop_Type'])['Crop_Damage'].apply(lambda x: x.shift(periods=2).rolling(5, min_periods=1).mean()).fillna(-999).values\n",
    "\n",
    "df_data['Pesticide_Use_Category_Damage_lag2'] = df_data.sort_values(['ID_value']).groupby(['Pesticide_Use_Category'])['Crop_Damage'].apply(lambda x: x.shift(periods=2).rolling(5, min_periods=1).mean()).fillna(-999).values\n",
    "\n",
    "df_data['Season_Damage_lag2'] = df_data.sort_values(['ID_value']).groupby(['Season'])['Crop_Damage'].apply(lambda x: x.shift(periods=2).rolling(5, min_periods=1).mean()).fillna(-999).values"
   ]
  },
  {
   "cell_type": "code",
   "execution_count": 26,
   "metadata": {
    "id": "PwfmNQiIQOr0"
   },
   "outputs": [],
   "source": [
    "df_data['Soil_Type_Damage_down'] = df_data.sort_values(['ID_value']).groupby(['Soil_Type'])['Crop_Damage'].apply(lambda x: x.shift(-1).rolling(5, min_periods=1).mean()).fillna(-999).values\n",
    "\n",
    "df_data['Estimated_Insects_Count_Damage_down'] = df_data.sort_values(['ID_value']).groupby(['Estimated_Insects_Count'])['Crop_Damage'].apply(lambda x: x.shift(-1).rolling(5, min_periods=1).mean()).fillna(-999).values\n",
    "\n",
    "df_data['Crop_Type_Damage_down'] = df_data.sort_values(['ID_value']).groupby(['Crop_Type'])['Crop_Damage'].apply(lambda x: x.shift(-1).rolling(5, min_periods=1).mean()).fillna(-999).values\n",
    "\n",
    "\n",
    "df_data['Pesticide_Use_Category_Damage_down'] = df_data.sort_values(['ID_value']).groupby(['Pesticide_Use_Category'])['Crop_Damage'].apply(lambda x: x.shift(-1).rolling(5, min_periods=1).mean()).fillna(-999).values\n",
    "\n",
    "\n",
    "df_data['Season_Damage_down'] = df_data.sort_values(['ID_value']).groupby(['Season'])['Crop_Damage'].apply(lambda x: x.shift(-1).rolling(5, min_periods=1).mean()).fillna(-999).values\n",
    "\n",
    "\n",
    "df_data['Soil_Type_Damage_lag2_down'] = df_data.sort_values(['ID_value']).groupby(['Soil_Type'])['Crop_Damage'].apply(lambda x: x.shift(periods=-2).rolling(5, min_periods=1).mean()).fillna(-999).values\n",
    "\n",
    "df_data['Estimated_Insects_Count_Damage_lag2_down'] = df_data.sort_values(['ID_value']).groupby(['Estimated_Insects_Count'])['Crop_Damage'].apply(lambda x: x.shift(periods=-2).rolling(5, min_periods=1).mean()).fillna(-999).values\n",
    "\n",
    "df_data['Crop_Type_Damage_lag2_down'] = df_data.sort_values(['ID_value']).groupby(['Crop_Type'])['Crop_Damage'].apply(lambda x: x.shift(periods=-2).rolling(5, min_periods=1).mean()).fillna(-999).values\n",
    "\n",
    "df_data['Pesticide_Use_Category_Damage_lag2_down'] = df_data.sort_values(['ID_value']).groupby(['Pesticide_Use_Category'])['Crop_Damage'].apply(lambda x: x.shift(periods=-2).rolling(5, min_periods=1).mean()).fillna(-999).values\n",
    "\n",
    "df_data['Season_Damage_lag2_down'] = df_data.sort_values(['ID_value']).groupby(['Season'])['Crop_Damage'].apply(lambda x: x.shift(periods=-2).rolling(5, min_periods=1).mean()).fillna(-999).values"
   ]
  },
  {
   "cell_type": "code",
   "execution_count": 27,
   "metadata": {
    "id": "djKQn6EDpfbG"
   },
   "outputs": [],
   "source": [
    "df_data.loc[df_data['train_flag'] == 0, 'Crop_Damage'] = -999"
   ]
  },
  {
   "cell_type": "code",
   "execution_count": 28,
   "metadata": {
    "colab": {
     "base_uri": "https://localhost:8080/",
     "height": 571
    },
    "id": "0Lb7NNMTqW3L",
    "outputId": "7839e5c9-2a3d-4e04-d5f5-9974e5441767"
   },
   "outputs": [
    {
     "data": {
      "text/plain": [
       "ID                                              0\n",
       "Estimated_Insects_Count                         0\n",
       "Crop_Type                                       0\n",
       "Soil_Type                                       0\n",
       "Pesticide_Use_Category                          0\n",
       "Number_Doses_Week                               0\n",
       "Number_Weeks_Used                           14893\n",
       "Number_Weeks_Quit                               0\n",
       "Season                                          0\n",
       "Crop_Damage                                     0\n",
       "train_flag                                      0\n",
       "ID_value                                        0\n",
       "Soil_Type_Damage                                0\n",
       "Estimated_Insects_Count_Damage                  0\n",
       "Crop_Type_Damage                                0\n",
       "Pesticide_Use_Category_Damage                   0\n",
       "Season_Damage                                   0\n",
       "Soil_Type_Damage_lag2                           0\n",
       "Estimated_Insects_Count_Damage_lag2             0\n",
       "Crop_Type_Damage_lag2                           0\n",
       "Pesticide_Use_Category_Damage_lag2              0\n",
       "Season_Damage_lag2                              0\n",
       "Soil_Type_Damage_down                           0\n",
       "Estimated_Insects_Count_Damage_down             0\n",
       "Crop_Type_Damage_down                           0\n",
       "Pesticide_Use_Category_Damage_down              0\n",
       "Season_Damage_down                              0\n",
       "Soil_Type_Damage_lag2_down                      0\n",
       "Estimated_Insects_Count_Damage_lag2_down        0\n",
       "Crop_Type_Damage_lag2_down                      0\n",
       "Pesticide_Use_Category_Damage_lag2_down         0\n",
       "Season_Damage_lag2_down                         0\n",
       "dtype: int64"
      ]
     },
     "execution_count": 28,
     "metadata": {
      "tags": []
     },
     "output_type": "execute_result"
    }
   ],
   "source": [
    "df_data.isnull().sum()"
   ]
  },
  {
   "cell_type": "code",
   "execution_count": 29,
   "metadata": {
    "id": "iDcxqnSTpffi"
   },
   "outputs": [],
   "source": [
    "df_data['Crop_Damage_lag1'] = df_data['Crop_Damage'].shift(fill_value=-999)\n",
    "df_data['Estimated_Insects_Count_lag1'] = df_data['Estimated_Insects_Count'].shift(fill_value=-999)\n",
    "df_data['Crop_Type_lag1'] = df_data['Crop_Type'].shift(fill_value=-999)\n",
    "df_data['Soil_Type_lag1'] = df_data['Soil_Type'].shift(fill_value=-999)\n",
    "df_data['Pesticide_Use_Category_lag1'] = df_data['Pesticide_Use_Category'].shift(fill_value=-999)\n",
    "df_data['Number_Doses_Week_lag1'] = df_data['Number_Doses_Week'].shift(fill_value=-999)\n",
    "df_data['Number_Weeks_Used_lag1'] = df_data['Number_Weeks_Used'].shift(fill_value=-999)\n",
    "df_data['Number_Weeks_Quit_lag1'] = df_data['Number_Weeks_Quit'].shift(fill_value=-999)\n",
    "df_data['Season_lag1'] = df_data['Season'].shift(fill_value=-999)\n",
    "\n",
    "df_data['Crop_Damage_lag2'] = df_data['Crop_Damage'].shift(periods=2,fill_value=-999)\n",
    "df_data['Estimated_Insects_Count_lag2'] = df_data['Estimated_Insects_Count'].shift(periods=2,fill_value=-999)\n",
    "df_data['Crop_Type_lag2'] = df_data['Crop_Type'].shift(fill_value=-999)\n",
    "df_data['Soil_Type_lag2'] = df_data['Soil_Type'].shift(fill_value=-999)\n",
    "df_data['Pesticide_Use_Category_lag2'] = df_data['Pesticide_Use_Category'].shift(periods=2,fill_value=-999)\n",
    "df_data['Number_Doses_Week_lag2'] = df_data['Number_Doses_Week'].shift(periods=2,fill_value=-999)\n",
    "df_data['Number_Weeks_Used_lag2'] = df_data['Number_Weeks_Used'].shift(periods=2,fill_value=-999)\n",
    "df_data['Number_Weeks_Quit_lag2'] = df_data['Number_Weeks_Quit'].shift(periods=2,fill_value=-999)\n",
    "df_data['Season_lag2'] = df_data['Season'].shift(periods=2,fill_value=-999)\n"
   ]
  },
  {
   "cell_type": "code",
   "execution_count": 30,
   "metadata": {
    "colab": {
     "base_uri": "https://localhost:8080/",
     "height": 874
    },
    "id": "N2jW-dTTqVvS",
    "outputId": "bc9e067a-733e-4dad-ff99-4963957ef1b9"
   },
   "outputs": [
    {
     "data": {
      "text/plain": [
       "ID                                              0\n",
       "Estimated_Insects_Count                         0\n",
       "Crop_Type                                       0\n",
       "Soil_Type                                       0\n",
       "Pesticide_Use_Category                          0\n",
       "Number_Doses_Week                               0\n",
       "Number_Weeks_Used                           14893\n",
       "Number_Weeks_Quit                               0\n",
       "Season                                          0\n",
       "Crop_Damage                                     0\n",
       "train_flag                                      0\n",
       "ID_value                                        0\n",
       "Soil_Type_Damage                                0\n",
       "Estimated_Insects_Count_Damage                  0\n",
       "Crop_Type_Damage                                0\n",
       "Pesticide_Use_Category_Damage                   0\n",
       "Season_Damage                                   0\n",
       "Soil_Type_Damage_lag2                           0\n",
       "Estimated_Insects_Count_Damage_lag2             0\n",
       "Crop_Type_Damage_lag2                           0\n",
       "Pesticide_Use_Category_Damage_lag2              0\n",
       "Season_Damage_lag2                              0\n",
       "Soil_Type_Damage_down                           0\n",
       "Estimated_Insects_Count_Damage_down             0\n",
       "Crop_Type_Damage_down                           0\n",
       "Pesticide_Use_Category_Damage_down              0\n",
       "Season_Damage_down                              0\n",
       "Soil_Type_Damage_lag2_down                      0\n",
       "Estimated_Insects_Count_Damage_lag2_down        0\n",
       "Crop_Type_Damage_lag2_down                      0\n",
       "Pesticide_Use_Category_Damage_lag2_down         0\n",
       "Season_Damage_lag2_down                         0\n",
       "Crop_Damage_lag1                                0\n",
       "Estimated_Insects_Count_lag1                    0\n",
       "Crop_Type_lag1                                  0\n",
       "Soil_Type_lag1                                  0\n",
       "Pesticide_Use_Category_lag1                     0\n",
       "Number_Doses_Week_lag1                          0\n",
       "Number_Weeks_Used_lag1                      14893\n",
       "Number_Weeks_Quit_lag1                          0\n",
       "Season_lag1                                     0\n",
       "Crop_Damage_lag2                                0\n",
       "Estimated_Insects_Count_lag2                    0\n",
       "Crop_Type_lag2                                  0\n",
       "Soil_Type_lag2                                  0\n",
       "Pesticide_Use_Category_lag2                     0\n",
       "Number_Doses_Week_lag2                          0\n",
       "Number_Weeks_Used_lag2                      14893\n",
       "Number_Weeks_Quit_lag2                          0\n",
       "Season_lag2                                     0\n",
       "dtype: int64"
      ]
     },
     "execution_count": 30,
     "metadata": {
      "tags": []
     },
     "output_type": "execute_result"
    }
   ],
   "source": [
    "df_data.isnull().sum()"
   ]
  },
  {
   "cell_type": "code",
   "execution_count": 31,
   "metadata": {
    "id": "xNdhWcmtpfY9"
   },
   "outputs": [],
   "source": [
    "df_train, df_test = df_data[df_data.train_flag == 1], df_data[df_data.train_flag == 0]"
   ]
  },
  {
   "cell_type": "code",
   "execution_count": 32,
   "metadata": {
    "id": "zY19iK1tpfMq"
   },
   "outputs": [],
   "source": [
    "df_train.drop(['train_flag'], inplace=True, axis=1)\n",
    "df_test.drop(['train_flag'], inplace=True, axis=1)\n",
    "df_test.drop([label_col], inplace=True, axis=1)"
   ]
  },
  {
   "cell_type": "code",
   "execution_count": 33,
   "metadata": {
    "colab": {
     "base_uri": "https://localhost:8080/",
     "height": 34
    },
    "id": "m51MxfHsp5KH",
    "outputId": "8cebfa0d-c1e9-4f3c-cfd5-a55fe61a1a20"
   },
   "outputs": [
    {
     "name": "stdout",
     "output_type": "stream",
     "text": [
      "(88858, 49) (59310, 48)\n"
     ]
    }
   ],
   "source": [
    "print(df_train.shape, df_test.shape)"
   ]
  },
  {
   "cell_type": "code",
   "execution_count": 34,
   "metadata": {
    "id": "QV6aVchRp5Rv"
   },
   "outputs": [],
   "source": [
    "missing_impute = -999"
   ]
  },
  {
   "cell_type": "code",
   "execution_count": 35,
   "metadata": {
    "colab": {
     "base_uri": "https://localhost:8080/",
     "height": 840
    },
    "id": "C-PN6ROPp5VB",
    "outputId": "b8c1048e-178e-48e6-b431-0ee8b8f7561c"
   },
   "outputs": [
    {
     "data": {
      "text/plain": [
       "ID                                             0\n",
       "Estimated_Insects_Count                        0\n",
       "Crop_Type                                      0\n",
       "Soil_Type                                      0\n",
       "Pesticide_Use_Category                         0\n",
       "Number_Doses_Week                              0\n",
       "Number_Weeks_Used                           5893\n",
       "Number_Weeks_Quit                              0\n",
       "Season                                         0\n",
       "ID_value                                       0\n",
       "Soil_Type_Damage                               0\n",
       "Estimated_Insects_Count_Damage                 0\n",
       "Crop_Type_Damage                               0\n",
       "Pesticide_Use_Category_Damage                  0\n",
       "Season_Damage                                  0\n",
       "Soil_Type_Damage_lag2                          0\n",
       "Estimated_Insects_Count_Damage_lag2            0\n",
       "Crop_Type_Damage_lag2                          0\n",
       "Pesticide_Use_Category_Damage_lag2             0\n",
       "Season_Damage_lag2                             0\n",
       "Soil_Type_Damage_down                          0\n",
       "Estimated_Insects_Count_Damage_down            0\n",
       "Crop_Type_Damage_down                          0\n",
       "Pesticide_Use_Category_Damage_down             0\n",
       "Season_Damage_down                             0\n",
       "Soil_Type_Damage_lag2_down                     0\n",
       "Estimated_Insects_Count_Damage_lag2_down       0\n",
       "Crop_Type_Damage_lag2_down                     0\n",
       "Pesticide_Use_Category_Damage_lag2_down        0\n",
       "Season_Damage_lag2_down                        0\n",
       "Crop_Damage_lag1                               0\n",
       "Estimated_Insects_Count_lag1                   0\n",
       "Crop_Type_lag1                                 0\n",
       "Soil_Type_lag1                                 0\n",
       "Pesticide_Use_Category_lag1                    0\n",
       "Number_Doses_Week_lag1                         0\n",
       "Number_Weeks_Used_lag1                      5907\n",
       "Number_Weeks_Quit_lag1                         0\n",
       "Season_lag1                                    0\n",
       "Crop_Damage_lag2                               0\n",
       "Estimated_Insects_Count_lag2                   0\n",
       "Crop_Type_lag2                                 0\n",
       "Soil_Type_lag2                                 0\n",
       "Pesticide_Use_Category_lag2                    0\n",
       "Number_Doses_Week_lag2                         0\n",
       "Number_Weeks_Used_lag2                      5977\n",
       "Number_Weeks_Quit_lag2                         0\n",
       "Season_lag2                                    0\n",
       "dtype: int64"
      ]
     },
     "execution_count": 35,
     "metadata": {
      "tags": []
     },
     "output_type": "execute_result"
    }
   ],
   "source": [
    "df_test.isnull().sum()"
   ]
  },
  {
   "cell_type": "code",
   "execution_count": 36,
   "metadata": {
    "id": "WsI38_Bgp5YR"
   },
   "outputs": [],
   "source": [
    "df_train['Number_Weeks_Used'] = df_train['Number_Weeks_Used'].apply(lambda x: missing_impute if pd.isna(x) else x)\n",
    "df_test['Number_Weeks_Used'] = df_test['Number_Weeks_Used'].apply(lambda x: missing_impute if pd.isna(x) else x)\n",
    "\n",
    "df_train['Number_Weeks_Used_lag1'] = df_train['Number_Weeks_Used_lag1'].apply(lambda x: missing_impute if pd.isna(x) else x)\n",
    "df_test['Number_Weeks_Used_lag1'] = df_test['Number_Weeks_Used_lag1'].apply(lambda x: missing_impute if pd.isna(x) else x)\n",
    "\n",
    "df_train['Number_Weeks_Used_lag2'] = df_train['Number_Weeks_Used_lag2'].apply(lambda x: missing_impute if pd.isna(x) else x)\n",
    "df_test['Number_Weeks_Used_lag2'] = df_test['Number_Weeks_Used_lag2'].apply(lambda x: missing_impute if pd.isna(x) else x)"
   ]
  },
  {
   "cell_type": "code",
   "execution_count": 37,
   "metadata": {
    "id": "-pTeMaKfp5be"
   },
   "outputs": [],
   "source": [
    "df_train, df_eval = train_test_split(df_train, test_size=0.40, random_state=42, shuffle=True, stratify=df_train[label_col])"
   ]
  },
  {
   "cell_type": "code",
   "execution_count": 38,
   "metadata": {
    "colab": {
     "base_uri": "https://localhost:8080/",
     "height": 54
    },
    "id": "9wIg8h4Yp5fC",
    "outputId": "51dd6886-ab05-4bad-f949-a34d7358cff2"
   },
   "outputs": [
    {
     "name": "stdout",
     "output_type": "stream",
     "text": [
      "['Estimated_Insects_Count', 'Crop_Type', 'Soil_Type', 'Pesticide_Use_Category', 'Number_Doses_Week', 'Number_Weeks_Used', 'Number_Weeks_Quit', 'Season', 'Soil_Type_Damage', 'Estimated_Insects_Count_Damage', 'Crop_Type_Damage', 'Pesticide_Use_Category_Damage', 'Season_Damage', 'Soil_Type_Damage_lag2', 'Estimated_Insects_Count_Damage_lag2', 'Crop_Type_Damage_lag2', 'Pesticide_Use_Category_Damage_lag2', 'Season_Damage_lag2', 'Soil_Type_Damage_down', 'Estimated_Insects_Count_Damage_down', 'Crop_Type_Damage_down', 'Pesticide_Use_Category_Damage_down', 'Season_Damage_down', 'Soil_Type_Damage_lag2_down', 'Estimated_Insects_Count_Damage_lag2_down', 'Crop_Type_Damage_lag2_down', 'Pesticide_Use_Category_Damage_lag2_down', 'Season_Damage_lag2_down', 'Crop_Damage_lag1', 'Estimated_Insects_Count_lag1', 'Crop_Type_lag1', 'Soil_Type_lag1', 'Pesticide_Use_Category_lag1', 'Number_Doses_Week_lag1', 'Number_Weeks_Used_lag1', 'Number_Weeks_Quit_lag1', 'Season_lag1', 'Crop_Damage_lag2', 'Estimated_Insects_Count_lag2', 'Crop_Type_lag2', 'Soil_Type_lag2', 'Pesticide_Use_Category_lag2', 'Number_Doses_Week_lag2', 'Number_Weeks_Used_lag2', 'Number_Weeks_Quit_lag2', 'Season_lag2']\n"
     ]
    }
   ],
   "source": [
    "feature_cols = df_train.columns.tolist()\n",
    "feature_cols.remove('ID')\n",
    "feature_cols.remove('Crop_Damage')\n",
    "feature_cols.remove('ID_value')\n",
    "label_col = 'Crop_Damage'\n",
    "print(feature_cols)"
   ]
  },
  {
   "cell_type": "code",
   "execution_count": 39,
   "metadata": {
    "id": "JoCAC8XArvsb"
   },
   "outputs": [],
   "source": [
    "cat_cols = ['Crop_Type', 'Soil_Type', 'Pesticide_Use_Category', 'Season', 'Crop_Type_lag1', 'Soil_Type_lag1', 'Pesticide_Use_Category_lag1', 'Season_lag1']"
   ]
  },
  {
   "cell_type": "code",
   "execution_count": 40,
   "metadata": {
    "colab": {
     "base_uri": "https://localhost:8080/",
     "height": 706
    },
    "id": "0XYUpSLrrvz5",
    "outputId": "26cbcf32-bcb2-4145-fddc-dbd505afbe14"
   },
   "outputs": [
    {
     "data": {
      "text/plain": [
       "['Crop_Damage',\n",
       " 'Crop_Damage_lag1',\n",
       " 'Crop_Damage_lag2',\n",
       " 'Crop_Type_Damage',\n",
       " 'Crop_Type_Damage_down',\n",
       " 'Crop_Type_Damage_lag2',\n",
       " 'Crop_Type_Damage_lag2_down',\n",
       " 'Crop_Type_lag2',\n",
       " 'Estimated_Insects_Count',\n",
       " 'Estimated_Insects_Count_Damage',\n",
       " 'Estimated_Insects_Count_Damage_down',\n",
       " 'Estimated_Insects_Count_Damage_lag2',\n",
       " 'Estimated_Insects_Count_Damage_lag2_down',\n",
       " 'Estimated_Insects_Count_lag1',\n",
       " 'Estimated_Insects_Count_lag2',\n",
       " 'ID',\n",
       " 'ID_value',\n",
       " 'Number_Doses_Week',\n",
       " 'Number_Doses_Week_lag1',\n",
       " 'Number_Doses_Week_lag2',\n",
       " 'Number_Weeks_Quit',\n",
       " 'Number_Weeks_Quit_lag1',\n",
       " 'Number_Weeks_Quit_lag2',\n",
       " 'Number_Weeks_Used',\n",
       " 'Number_Weeks_Used_lag1',\n",
       " 'Number_Weeks_Used_lag2',\n",
       " 'Pesticide_Use_Category_Damage',\n",
       " 'Pesticide_Use_Category_Damage_down',\n",
       " 'Pesticide_Use_Category_Damage_lag2',\n",
       " 'Pesticide_Use_Category_Damage_lag2_down',\n",
       " 'Pesticide_Use_Category_lag2',\n",
       " 'Season_Damage',\n",
       " 'Season_Damage_down',\n",
       " 'Season_Damage_lag2',\n",
       " 'Season_Damage_lag2_down',\n",
       " 'Season_lag2',\n",
       " 'Soil_Type_Damage',\n",
       " 'Soil_Type_Damage_down',\n",
       " 'Soil_Type_Damage_lag2',\n",
       " 'Soil_Type_Damage_lag2_down',\n",
       " 'Soil_Type_lag2']"
      ]
     },
     "execution_count": 40,
     "metadata": {
      "tags": []
     },
     "output_type": "execute_result"
    }
   ],
   "source": [
    "num=list(df_train.columns.difference(cat_cols))\n",
    "num"
   ]
  },
  {
   "cell_type": "code",
   "execution_count": 41,
   "metadata": {
    "id": "diGgcZIotJ8g"
   },
   "outputs": [],
   "source": [
    "remove_list=['Crop_Damage','ID',]"
   ]
  },
  {
   "cell_type": "code",
   "execution_count": 42,
   "metadata": {
    "colab": {
     "base_uri": "https://localhost:8080/",
     "height": 672
    },
    "id": "Es-b-VKNrwAL",
    "outputId": "6ca51732-ea53-4c36-92e7-140353285c62"
   },
   "outputs": [
    {
     "data": {
      "text/plain": [
       "['Crop_Damage_lag1',\n",
       " 'Crop_Damage_lag2',\n",
       " 'Crop_Type_Damage',\n",
       " 'Crop_Type_Damage_down',\n",
       " 'Crop_Type_Damage_lag2',\n",
       " 'Crop_Type_Damage_lag2_down',\n",
       " 'Crop_Type_lag2',\n",
       " 'Estimated_Insects_Count',\n",
       " 'Estimated_Insects_Count_Damage',\n",
       " 'Estimated_Insects_Count_Damage_down',\n",
       " 'Estimated_Insects_Count_Damage_lag2',\n",
       " 'Estimated_Insects_Count_Damage_lag2_down',\n",
       " 'Estimated_Insects_Count_lag1',\n",
       " 'Estimated_Insects_Count_lag2',\n",
       " 'ID_value',\n",
       " 'Number_Doses_Week',\n",
       " 'Number_Doses_Week_lag1',\n",
       " 'Number_Doses_Week_lag2',\n",
       " 'Number_Weeks_Quit',\n",
       " 'Number_Weeks_Quit_lag1',\n",
       " 'Number_Weeks_Quit_lag2',\n",
       " 'Number_Weeks_Used',\n",
       " 'Number_Weeks_Used_lag1',\n",
       " 'Number_Weeks_Used_lag2',\n",
       " 'Pesticide_Use_Category_Damage',\n",
       " 'Pesticide_Use_Category_Damage_down',\n",
       " 'Pesticide_Use_Category_Damage_lag2',\n",
       " 'Pesticide_Use_Category_Damage_lag2_down',\n",
       " 'Pesticide_Use_Category_lag2',\n",
       " 'Season_Damage',\n",
       " 'Season_Damage_down',\n",
       " 'Season_Damage_lag2',\n",
       " 'Season_Damage_lag2_down',\n",
       " 'Season_lag2',\n",
       " 'Soil_Type_Damage',\n",
       " 'Soil_Type_Damage_down',\n",
       " 'Soil_Type_Damage_lag2',\n",
       " 'Soil_Type_Damage_lag2_down',\n",
       " 'Soil_Type_lag2']"
      ]
     },
     "execution_count": 42,
     "metadata": {
      "tags": []
     },
     "output_type": "execute_result"
    }
   ],
   "source": [
    "num = [i for i in num if i not in remove_list]\n",
    "num"
   ]
  },
  {
   "cell_type": "code",
   "execution_count": 43,
   "metadata": {
    "colab": {
     "base_uri": "https://localhost:8080/",
     "height": 857
    },
    "id": "aIFygsOurwFb",
    "outputId": "d4d61edd-219f-4cc6-a50d-a7da9407a6ad"
   },
   "outputs": [
    {
     "data": {
      "text/plain": [
       "ID                                           object\n",
       "Estimated_Insects_Count                       int64\n",
       "Crop_Type                                     int64\n",
       "Soil_Type                                     int64\n",
       "Pesticide_Use_Category                        int64\n",
       "Number_Doses_Week                             int64\n",
       "Number_Weeks_Used                           float64\n",
       "Number_Weeks_Quit                             int64\n",
       "Season                                        int64\n",
       "Crop_Damage                                   int64\n",
       "ID_value                                      int64\n",
       "Soil_Type_Damage                            float64\n",
       "Estimated_Insects_Count_Damage              float64\n",
       "Crop_Type_Damage                            float64\n",
       "Pesticide_Use_Category_Damage               float64\n",
       "Season_Damage                               float64\n",
       "Soil_Type_Damage_lag2                       float64\n",
       "Estimated_Insects_Count_Damage_lag2         float64\n",
       "Crop_Type_Damage_lag2                       float64\n",
       "Pesticide_Use_Category_Damage_lag2          float64\n",
       "Season_Damage_lag2                          float64\n",
       "Soil_Type_Damage_down                       float64\n",
       "Estimated_Insects_Count_Damage_down         float64\n",
       "Crop_Type_Damage_down                       float64\n",
       "Pesticide_Use_Category_Damage_down          float64\n",
       "Season_Damage_down                          float64\n",
       "Soil_Type_Damage_lag2_down                  float64\n",
       "Estimated_Insects_Count_Damage_lag2_down    float64\n",
       "Crop_Type_Damage_lag2_down                  float64\n",
       "Pesticide_Use_Category_Damage_lag2_down     float64\n",
       "Season_Damage_lag2_down                     float64\n",
       "Crop_Damage_lag1                              int64\n",
       "Estimated_Insects_Count_lag1                  int64\n",
       "Crop_Type_lag1                                int64\n",
       "Soil_Type_lag1                                int64\n",
       "Pesticide_Use_Category_lag1                   int64\n",
       "Number_Doses_Week_lag1                        int64\n",
       "Number_Weeks_Used_lag1                      float64\n",
       "Number_Weeks_Quit_lag1                        int64\n",
       "Season_lag1                                   int64\n",
       "Crop_Damage_lag2                              int64\n",
       "Estimated_Insects_Count_lag2                  int64\n",
       "Crop_Type_lag2                                int64\n",
       "Soil_Type_lag2                                int64\n",
       "Pesticide_Use_Category_lag2                   int64\n",
       "Number_Doses_Week_lag2                        int64\n",
       "Number_Weeks_Used_lag2                      float64\n",
       "Number_Weeks_Quit_lag2                        int64\n",
       "Season_lag2                                   int64\n",
       "dtype: object"
      ]
     },
     "execution_count": 43,
     "metadata": {
      "tags": []
     },
     "output_type": "execute_result"
    }
   ],
   "source": [
    "df_train.dtypes"
   ]
  },
  {
   "cell_type": "code",
   "execution_count": 44,
   "metadata": {
    "id": "qc6hEQrUrv9L"
   },
   "outputs": [],
   "source": [
    "numeric_transformer = Pipeline(steps=[\n",
    "    ('imputer', IterativeImputer(initial_strategy='median')),\n",
    "    ('scaler', StandardScaler()) ])\n",
    "\n",
    "categorical_transformer = Pipeline(steps=[\n",
    "    ('imputer', SimpleImputer(strategy='most_frequent',fill_value=\"missing_value\")),\n",
    "    ('onehot', OneHotEncoder(handle_unknown='ignore'))])\n",
    "\n",
    "preprocessor = ColumnTransformer(\n",
    "    transformers=[\n",
    "        ('num', numeric_transformer, num),\n",
    "        ('cat', categorical_transformer, cat_cols)])"
   ]
  },
  {
   "cell_type": "code",
   "execution_count": 45,
   "metadata": {
    "id": "O2lNWf6HrvxF"
   },
   "outputs": [],
   "source": [
    "from sklearn.model_selection import GridSearchCV, cross_val_score, StratifiedKFold,GridSearchCV, RandomizedSearchCV\n",
    "\n",
    "clf = Pipeline(steps=[('preprocessor', preprocessor),\n",
    "                     ('classifier', tree.DecisionTreeClassifier(random_state=123))])\n",
    "kfold = StratifiedKFold(n_splits=10, shuffle=True, random_state=143)\n",
    "\n",
    "param_grid = {\"classifier__criterion\": ['entropy','gini'],\n",
    "              \"classifier__splitter\":[\"best\", \"random\"],\n",
    "             'classifier__min_samples_split': [5,10,20],\n",
    "             'classifier__max_depth': [2,15,30,],\n",
    "             'classifier__max_leaf_nodes': [50,100,120], }\n",
    "\n",
    "rf_grid = RandomizedSearchCV(clf, param_distributions= param_grid, cv=kfold, n_jobs=-1)\n",
    "\n",
    "rf_grid.fit(df_train,df_train[label_col])\n",
    "\n",
    "train_predictions=rf_grid.predict(df_train)\n",
    "predictions = rf_grid.predict(df_eval)"
   ]
  },
  {
   "cell_type": "code",
   "execution_count": 46,
   "metadata": {
    "colab": {
     "base_uri": "https://localhost:8080/",
     "height": 722
    },
    "id": "pnLqjWpat6_r",
    "outputId": "1df15731-fdeb-4659-fab3-2765095f7bb1"
   },
   "outputs": [
    {
     "name": "stdout",
     "output_type": "stream",
     "text": [
      "\n",
      "Confusion Matrix :\n",
      "[[44140   397     5]\n",
      " [  374  6859   151]\n",
      " [   26   922   440]]\n",
      "\n",
      "Report : \n",
      "              precision    recall  f1-score   support\n",
      "\n",
      "           0       0.99      0.99      0.99     44542\n",
      "           1       0.84      0.93      0.88      7384\n",
      "           2       0.74      0.32      0.44      1388\n",
      "\n",
      "    accuracy                           0.96     53314\n",
      "   macro avg       0.86      0.75      0.77     53314\n",
      "weighted avg       0.96      0.96      0.96     53314\n",
      "\n",
      "\n",
      "Accuracy Score : 0.9648310012379487\n",
      "------------------------------------------------------------------\n",
      "None\n",
      "\n",
      "Confusion Matrix :\n",
      "[[29388   299     9]\n",
      " [  257  4509   157]\n",
      " [   18   627   280]]\n",
      "\n",
      "Report : \n",
      "              precision    recall  f1-score   support\n",
      "\n",
      "           0       0.99      0.99      0.99     29696\n",
      "           1       0.83      0.92      0.87      4923\n",
      "           2       0.63      0.30      0.41       925\n",
      "\n",
      "    accuracy                           0.96     35544\n",
      "   macro avg       0.82      0.74      0.76     35544\n",
      "weighted avg       0.96      0.96      0.96     35544\n",
      "\n",
      "\n",
      "Accuracy Score : 0.9615406257033536\n",
      "------------------------------------------------------------------\n",
      "None\n"
     ]
    }
   ],
   "source": [
    "print(model_evaluation(df_train[label_col], train_predictions))\n",
    "print(model_evaluation(df_eval[label_col], predictions))"
   ]
  },
  {
   "cell_type": "code",
   "execution_count": null,
   "metadata": {
    "id": "GeZs1zDXz1K0"
   },
   "outputs": [],
   "source": [
    "test_predictions=rf_grid.predict(df_test)\n"
   ]
  },
  {
   "cell_type": "code",
   "execution_count": 47,
   "metadata": {
    "colab": {
     "base_uri": "https://localhost:8080/",
     "height": 34
    },
    "id": "I8sNuk_UwRMQ",
    "outputId": "023277b1-4f49-4718-8956-48889409b279"
   },
   "outputs": [
    {
     "data": {
      "text/plain": [
       "0.9648310012379487"
      ]
     },
     "execution_count": 47,
     "metadata": {
      "tags": []
     },
     "output_type": "execute_result"
    }
   ],
   "source": [
    "accuracy_score(df_train[label_col], train_predictions)"
   ]
  },
  {
   "cell_type": "code",
   "execution_count": 48,
   "metadata": {
    "id": "DhCOvhQzwtL-"
   },
   "outputs": [],
   "source": [
    "clf = Pipeline(steps=[('preprocessor', preprocessor),\n",
    "                     ('classifier', XGBClassifier(n_jobs=-1,random_state=123))])\n",
    "clf.fit(df_train,df_train[label_col])\n",
    "\n",
    "train_predictions=clf.predict(df_train)\n",
    "predictions = clf.predict(df_eval)"
   ]
  },
  {
   "cell_type": "code",
   "execution_count": 49,
   "metadata": {
    "colab": {
     "base_uri": "https://localhost:8080/",
     "height": 722
    },
    "id": "1Aqem0XWw36N",
    "outputId": "ce5f3075-cb33-469f-d0d1-6903992f9c08"
   },
   "outputs": [
    {
     "name": "stdout",
     "output_type": "stream",
     "text": [
      "\n",
      "Confusion Matrix :\n",
      "[[44127   403    12]\n",
      " [  169  7153    62]\n",
      " [    0  1008   380]]\n",
      "\n",
      "Report : \n",
      "              precision    recall  f1-score   support\n",
      "\n",
      "           0       1.00      0.99      0.99     44542\n",
      "           1       0.84      0.97      0.90      7384\n",
      "           2       0.84      0.27      0.41      1388\n",
      "\n",
      "    accuracy                           0.97     53314\n",
      "   macro avg       0.89      0.74      0.77     53314\n",
      "weighted avg       0.97      0.97      0.96     53314\n",
      "\n",
      "\n",
      "Accuracy Score : 0.9689762538920359\n",
      "------------------------------------------------------------------\n",
      "None\n",
      "\n",
      "Confusion Matrix :\n",
      "[[29384   301    11]\n",
      " [  114  4746    63]\n",
      " [    0   666   259]]\n",
      "\n",
      "Report : \n",
      "              precision    recall  f1-score   support\n",
      "\n",
      "           0       1.00      0.99      0.99     29696\n",
      "           1       0.83      0.96      0.89      4923\n",
      "           2       0.78      0.28      0.41       925\n",
      "\n",
      "    accuracy                           0.97     35544\n",
      "   macro avg       0.87      0.74      0.77     35544\n",
      "weighted avg       0.97      0.97      0.96     35544\n",
      "\n",
      "\n",
      "Accuracy Score : 0.9675050641458474\n",
      "------------------------------------------------------------------\n",
      "None\n"
     ]
    }
   ],
   "source": [
    "print(model_evaluation(df_train[label_col], train_predictions))\n",
    "print(model_evaluation(df_eval[label_col], predictions))"
   ]
  },
  {
   "cell_type": "code",
   "execution_count": null,
   "metadata": {
    "id": "QIzl5Zpy2moO"
   },
   "outputs": [],
   "source": [
    "df_test[\"Crop_Damage\"]=0"
   ]
  },
  {
   "cell_type": "code",
   "execution_count": 66,
   "metadata": {
    "colab": {
     "base_uri": "https://localhost:8080/",
     "height": 386
    },
    "id": "imFXPbh62RxQ",
    "outputId": "22444650-38cc-45d9-c684-a74f6c5b8c9b"
   },
   "outputs": [
    {
     "data": {
      "text/plain": [
       "Index(['ID', 'Estimated_Insects_Count', 'Crop_Type', 'Soil_Type',\n",
       "       'Pesticide_Use_Category', 'Number_Doses_Week', 'Number_Weeks_Used',\n",
       "       'Number_Weeks_Quit', 'Season', 'Crop_Damage', 'ID_value',\n",
       "       'Soil_Type_Damage', 'Estimated_Insects_Count_Damage',\n",
       "       'Crop_Type_Damage', 'Pesticide_Use_Category_Damage', 'Season_Damage',\n",
       "       'Soil_Type_Damage_lag2', 'Estimated_Insects_Count_Damage_lag2',\n",
       "       'Crop_Type_Damage_lag2', 'Pesticide_Use_Category_Damage_lag2',\n",
       "       'Season_Damage_lag2', 'Soil_Type_Damage_down',\n",
       "       'Estimated_Insects_Count_Damage_down', 'Crop_Type_Damage_down',\n",
       "       'Pesticide_Use_Category_Damage_down', 'Season_Damage_down',\n",
       "       'Soil_Type_Damage_lag2_down',\n",
       "       'Estimated_Insects_Count_Damage_lag2_down',\n",
       "       'Crop_Type_Damage_lag2_down', 'Pesticide_Use_Category_Damage_lag2_down',\n",
       "       'Season_Damage_lag2_down', 'Crop_Damage_lag1',\n",
       "       'Estimated_Insects_Count_lag1', 'Crop_Type_lag1', 'Soil_Type_lag1',\n",
       "       'Pesticide_Use_Category_lag1', 'Number_Doses_Week_lag1',\n",
       "       'Number_Weeks_Used_lag1', 'Number_Weeks_Quit_lag1', 'Season_lag1',\n",
       "       'Crop_Damage_lag2', 'Estimated_Insects_Count_lag2', 'Crop_Type_lag2',\n",
       "       'Soil_Type_lag2', 'Pesticide_Use_Category_lag2',\n",
       "       'Number_Doses_Week_lag2', 'Number_Weeks_Used_lag2',\n",
       "       'Number_Weeks_Quit_lag2', 'Season_lag2'],\n",
       "      dtype='object')"
      ]
     },
     "execution_count": 66,
     "metadata": {
      "tags": []
     },
     "output_type": "execute_result"
    }
   ],
   "source": [
    "df_train.columns"
   ]
  },
  {
   "cell_type": "code",
   "execution_count": 67,
   "metadata": {
    "id": "bAmz0q222Z3w"
   },
   "outputs": [],
   "source": [
    "df_test=df_test[['ID', 'Estimated_Insects_Count', 'Crop_Type', 'Soil_Type',\n",
    "       'Pesticide_Use_Category', 'Number_Doses_Week', 'Number_Weeks_Used',\n",
    "       'Number_Weeks_Quit', 'Season', 'Crop_Damage', 'ID_value',\n",
    "       'Soil_Type_Damage', 'Estimated_Insects_Count_Damage',\n",
    "       'Crop_Type_Damage', 'Pesticide_Use_Category_Damage', 'Season_Damage',\n",
    "       'Soil_Type_Damage_lag2', 'Estimated_Insects_Count_Damage_lag2',\n",
    "       'Crop_Type_Damage_lag2', 'Pesticide_Use_Category_Damage_lag2',\n",
    "       'Season_Damage_lag2', 'Soil_Type_Damage_down',\n",
    "       'Estimated_Insects_Count_Damage_down', 'Crop_Type_Damage_down',\n",
    "       'Pesticide_Use_Category_Damage_down', 'Season_Damage_down',\n",
    "       'Soil_Type_Damage_lag2_down',\n",
    "       'Estimated_Insects_Count_Damage_lag2_down',\n",
    "       'Crop_Type_Damage_lag2_down', 'Pesticide_Use_Category_Damage_lag2_down',\n",
    "       'Season_Damage_lag2_down', 'Crop_Damage_lag1',\n",
    "       'Estimated_Insects_Count_lag1', 'Crop_Type_lag1', 'Soil_Type_lag1',\n",
    "       'Pesticide_Use_Category_lag1', 'Number_Doses_Week_lag1',\n",
    "       'Number_Weeks_Used_lag1', 'Number_Weeks_Quit_lag1', 'Season_lag1',\n",
    "       'Crop_Damage_lag2', 'Estimated_Insects_Count_lag2', 'Crop_Type_lag2',\n",
    "       'Soil_Type_lag2', 'Pesticide_Use_Category_lag2',\n",
    "       'Number_Doses_Week_lag2', 'Number_Weeks_Used_lag2',\n",
    "       'Number_Weeks_Quit_lag2', 'Season_lag2']]"
   ]
  },
  {
   "cell_type": "code",
   "execution_count": 70,
   "metadata": {
    "id": "nwovzS7Uw4CA"
   },
   "outputs": [],
   "source": [
    "preds=clf.predict(df_test)"
   ]
  },
  {
   "cell_type": "code",
   "execution_count": 78,
   "metadata": {
    "id": "ofFa4u78wtTX"
   },
   "outputs": [],
   "source": [
    "xgb=pd.DataFrame(data=df_test[\"ID\"],columns=[\"ID\"])"
   ]
  },
  {
   "cell_type": "code",
   "execution_count": 79,
   "metadata": {
    "id": "yyo_b0eTwtWX"
   },
   "outputs": [],
   "source": [
    "xgb[\"Crop_Damage\"]=preds"
   ]
  },
  {
   "cell_type": "code",
   "execution_count": 81,
   "metadata": {
    "id": "0-pAxf_VwtZ2"
   },
   "outputs": [],
   "source": [
    "xgb.to_csv(\"xgbpreds.csv\",index=False)"
   ]
  },
  {
   "cell_type": "code",
   "execution_count": 82,
   "metadata": {
    "id": "57m1O3dnwtcx"
   },
   "outputs": [],
   "source": [
    "rfgrid=pd.DataFrame(data=df_test[\"ID\"],columns=[\"ID\"])\n",
    "rfgrid[\"Crop_Damage\"]=rf_grid.predict(df_test)\n"
   ]
  },
  {
   "cell_type": "code",
   "execution_count": 84,
   "metadata": {
    "id": "NpcXU4UU48H1"
   },
   "outputs": [],
   "source": [
    "rfgrid.to_csv(\"rfgridpreds.csv\",index=False)"
   ]
  }
 ],
 "metadata": {
  "colab": {
   "collapsed_sections": [],
   "name": "final_aggr.ipynb",
   "provenance": []
  },
  "kernelspec": {
   "display_name": "Python 3",
   "language": "python",
   "name": "python3"
  },
  "language_info": {
   "codemirror_mode": {
    "name": "ipython",
    "version": 3
   },
   "file_extension": ".py",
   "mimetype": "text/x-python",
   "name": "python",
   "nbconvert_exporter": "python",
   "pygments_lexer": "ipython3",
   "version": "3.7.3"
  }
 },
 "nbformat": 4,
 "nbformat_minor": 1
}
